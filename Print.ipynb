{
 "cells": [
  {
   "cell_type": "code",
   "execution_count": 1,
   "metadata": {},
   "outputs": [
    {
     "name": "stdout",
     "output_type": "stream",
     "text": [
      "123 12.3\n"
     ]
    }
   ],
   "source": [
    "print(123,12.3)"
   ]
  },
  {
   "cell_type": "code",
   "execution_count": 2,
   "metadata": {},
   "outputs": [
    {
     "name": "stdout",
     "output_type": "stream",
     "text": [
      "123Pakistan\n"
     ]
    }
   ],
   "source": [
    "print(\"123Pakistan\")"
   ]
  },
  {
   "cell_type": "code",
   "execution_count": 17,
   "metadata": {},
   "outputs": [
    {
     "name": "stdout",
     "output_type": "stream",
     "text": [
      "Pakistan love Zindabad love Python love PIAIC\n"
     ]
    }
   ],
   "source": [
    "print(\"Pakistan\",\"Zindabad\",\"Python\",\"PIAIC\",sep= ' love ')"
   ]
  },
  {
   "cell_type": "code",
   "execution_count": 18,
   "metadata": {},
   "outputs": [
    {
     "name": "stdout",
     "output_type": "stream",
     "text": [
      "Pakistan zindabad1\n",
      "pakistan zindabad2\n",
      "pakistan zindabad3\n"
     ]
    }
   ],
   "source": [
    "print(\"Pakistan zindabad1\")\n",
    "print(\"pakistan zindabad2\")\n",
    "print(\"pakistan zindabad3\")"
   ]
  },
  {
   "cell_type": "code",
   "execution_count": 24,
   "metadata": {
    "scrolled": true
   },
   "outputs": [
    {
     "name": "stdout",
     "output_type": "stream",
     "text": [
      "Pakistan zindabad1 pakistan zindabad2 pakistan zindabad3\n"
     ]
    }
   ],
   "source": [
    "print(\"Pakistan zindabad1\",end=' ')\n",
    "print(\"pakistan zindabad2\",end=' ')\n",
    "print(\"pakistan zindabad3\")"
   ]
  },
  {
   "cell_type": "code",
   "execution_count": 33,
   "metadata": {},
   "outputs": [
    {
     "name": "stdout",
     "output_type": "stream",
     "text": [
      "Pakistan zindabad1\n",
      "\n",
      "pakistan zindabad2\t\tpakistan zindabad3\n"
     ]
    }
   ],
   "source": [
    "print(\"Pakistan zindabad1\" ,end=\"\\n\\n\")\n",
    "print(\"pakistan zindabad2\" ,end=\"\\t\\t\")\n",
    "print(\"pakistan zindabad3\")"
   ]
  },
  {
   "cell_type": "code",
   "execution_count": 32,
   "metadata": {},
   "outputs": [
    {
     "name": "stdout",
     "output_type": "stream",
     "text": [
      "Pakistan zindabad1\t\tpakistan zindabad2\n",
      "\n",
      "pakistan zindabad3\n"
     ]
    }
   ],
   "source": [
    "print(\"Pakistan zindabad1\",end='\\t\\t')\n",
    "print(\"pakistan zindabad2\",end='\\n\\n')\n",
    "print(\"pakistan zindabad3\")"
   ]
  },
  {
   "cell_type": "code",
   "execution_count": 39,
   "metadata": {},
   "outputs": [
    {
     "name": "stdout",
     "output_type": "stream",
     "text": [
      "Pakistan zindabad1\u0007\n",
      "\tpakistan zindabad29\b\n",
      "pakistan zindabad3\n"
     ]
    }
   ],
   "source": [
    "print(\"Pakistan zindabad1\",end='\\a\\n\\t')\n",
    "print(\"pakistan zindabad29\",end='\\b\\n')\n",
    "print(\"pakistan zindabad3\")"
   ]
  },
  {
   "cell_type": "code",
   "execution_count": 45,
   "metadata": {},
   "outputs": [
    {
     "name": "stdout",
     "output_type": "stream",
     "text": [
      "Pakistan zindabad1\\e\n",
      "pakistan zindabad29\tpakistan zindabad3\n"
     ]
    }
   ],
   "source": [
    "print(\"Pakistan zindabad1\",end='\\e\\n')\n",
    "print(\"pakistan zindabad29\",end='\\t')\n",
    "print(\"pakistan zindabad3\")"
   ]
  },
  {
   "cell_type": "code",
   "execution_count": 62,
   "metadata": {},
   "outputs": [
    {
     "name": "stdout",
     "output_type": "stream",
     "text": [
      "Pakistan zindabad1\n",
      "\u000b",
      "pakistan zindabad29\n",
      "pakistan zindabad3\n"
     ]
    }
   ],
   "source": [
    "print(\"Pakistan zindabad1\",end='\\n\\v')\n",
    "print(\"pakistan zindabad29\",end='\\n')\n",
    "print(\"pakistan zindabad3\")"
   ]
  },
  {
   "cell_type": "code",
   "execution_count": 69,
   "metadata": {},
   "outputs": [
    {
     "name": "stdout",
     "output_type": "stream",
     "text": [
      "1\u0007\n",
      "\t2\u000b",
      "\n",
      "3\n"
     ]
    }
   ],
   "source": [
    "print(\"1\",end='\\a\\n\\t')\n",
    "print(\"2\",end='\\v\\n')\n",
    "print(\"3\")"
   ]
  },
  {
   "cell_type": "code",
   "execution_count": 70,
   "metadata": {},
   "outputs": [
    {
     "name": "stdout",
     "output_type": "stream",
     "text": [
      "1\u0007\n",
      "\t2\u000b",
      "\n",
      "3\n"
     ]
    }
   ],
   "source": [
    "print('1',end='\\a\\n\\t')\n",
    "print('2',end='\\v\\n')\n",
    "print('3')"
   ]
  },
  {
   "cell_type": "code",
   "execution_count": 72,
   "metadata": {},
   "outputs": [
    {
     "name": "stdout",
     "output_type": "stream",
     "text": [
      "1\u0007\n",
      "\u000b",
      "\t2\u000b",
      "\n",
      "3\n"
     ]
    }
   ],
   "source": [
    "print('1',end=\"\\a\\n\\v\\t\")\n",
    "print('2',end=\"\\v\\n\")\n",
    "print('3')"
   ]
  },
  {
   "cell_type": "code",
   "execution_count": 74,
   "metadata": {},
   "outputs": [
    {
     "name": "stdout",
     "output_type": "stream",
     "text": [
      "Hamzah\n"
     ]
    }
   ],
   "source": [
    "print('Hamzah')"
   ]
  },
  {
   "cell_type": "code",
   "execution_count": null,
   "metadata": {},
   "outputs": [],
   "source": []
  }
 ],
 "metadata": {
  "kernelspec": {
   "display_name": "Python 3",
   "language": "python",
   "name": "python3"
  },
  "language_info": {
   "codemirror_mode": {
    "name": "ipython",
    "version": 3
   },
   "file_extension": ".py",
   "mimetype": "text/x-python",
   "name": "python",
   "nbconvert_exporter": "python",
   "pygments_lexer": "ipython3",
   "version": "3.7.3"
  }
 },
 "nbformat": 4,
 "nbformat_minor": 2
}
